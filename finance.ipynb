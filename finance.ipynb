{
  "nbformat": 4,
  "nbformat_minor": 0,
  "metadata": {
    "colab": {
      "provenance": []
    },
    "kernelspec": {
      "name": "python3",
      "display_name": "Python 3"
    },
    "language_info": {
      "name": "python"
    }
  },
  "cells": [
    {
      "cell_type": "markdown",
      "source": [
        "Moving Average (MA): <br>\n",
        "$MA_t = \\frac{1}{n}\\sum_{i=t-n+1}^{t} P_i$ <br><br>\n",
        "Standard Deviation (σ): <br>\n",
        "$\\sigma_t = \\sqrt{\\frac{1}{n}\\sum_{i=t-n+1}^{t} (P_i - MA_t)^2}$ <br><br>\n",
        "Upper Bollinger Band: <br>\n",
        "$Upper_t = MA_t + (2 \\times \\sigma_t)$ <br><br>\n",
        "Lower Bollinger Band: <br>\n",
        "$Lower_t = MA_t - (2 \\times \\sigma_t)$ <br><br>"
      ],
      "metadata": {
        "id": "UXCqiFa2g1_O"
      }
    },
    {
      "cell_type": "code",
      "execution_count": null,
      "metadata": {
        "colab": {
          "base_uri": "https://localhost:8080/"
        },
        "id": "DB-oLAO_eQ8c",
        "outputId": "ea67a83f-eed1-4a5e-ba48-f71f649e191b"
      },
      "outputs": [
        {
          "output_type": "stream",
          "name": "stderr",
          "text": [
            "\r[*********************100%***********************]  1 of 1 completed"
          ]
        },
        {
          "output_type": "stream",
          "name": "stdout",
          "text": [
            "{'SMA': 21.56800012588501, 'Bollinger Bands': 19.74818423113621, 'Mean Reversion Strategy': 20.34777229877266}\n"
          ]
        },
        {
          "output_type": "stream",
          "name": "stderr",
          "text": [
            "\n"
          ]
        }
      ],
      "source": [
        "import yfinance as yf\n",
        "import pandas as pd\n",
        "\n",
        "def calculate_optimal_limit_price(ticker, period, interval):\n",
        "    \"\"\"\n",
        "    Calculate the optimal limit price for a stock based on SMA, Bollinger Bands, and Mean Reversion Strategy.\n",
        "\n",
        "    Args:\n",
        "        ticker (str): Stock ticker symbol.\n",
        "        period (str): Period for which to fetch historical data (e.g., '1d', '5d', '1mo', '3mo', '6mo', '1y', '2y', '5y', '10y', 'ytd', 'max').\n",
        "        interval (str): Interval for which to fetch historical data (e.g., '1m', '2m', '5m', '15m', '30m', '60m', '90m', '1h', '1d', '5d', '1wk', '1mo', '3mo').\n",
        "\n",
        "    Returns:\n",
        "        dict: Optimal limit prices based on SMA, Bollinger Bands, and Mean Reversion Strategy.\n",
        "    \"\"\"\n",
        "    # Fetch historical stock data\n",
        "    data = yf.download(ticker, period=period, interval=interval)\n",
        "\n",
        "    # Calculate SMA\n",
        "    sma = data['Close'].rolling(window=20).mean()\n",
        "    sma_limit = sma.iloc[-1]\n",
        "\n",
        "    # Calculate Bollinger Bands\n",
        "    bb_ma = data['Close'].rolling(window=20).mean()\n",
        "    bb_std = data['Close'].rolling(window=20).std()\n",
        "    bb_upper = bb_ma + (bb_std * 2)\n",
        "    bb_lower = bb_ma - (bb_std * 2)\n",
        "    bb_limit = bb_lower.iloc[-1]\n",
        "\n",
        "    # Calculate Mean Reversion Strategy\n",
        "    mean_price = data['Close'].mean()\n",
        "    deviation = data['Close'].std()\n",
        "    mr_limit = mean_price - (deviation * 1.5)\n",
        "\n",
        "    return {\n",
        "        'SMA': sma_limit,\n",
        "        'Bollinger Bands': bb_limit,\n",
        "        'Mean Reversion Strategy': mr_limit\n",
        "    }\n",
        "\n",
        "# Example usage for a stock in SBF 120:\n",
        "ticker = 'TE.PA'  # Technip Energies\n",
        "period = '6mo'\n",
        "interval = '1d'\n",
        "\n",
        "optimal_limit_prices = calculate_optimal_limit_price(ticker, period, interval)\n",
        "print(optimal_limit_prices)"
      ]
    },
    {
      "cell_type": "markdown",
      "source": [
        "# **Veolia**"
      ],
      "metadata": {
        "id": "gOHpFNwdo2Nm"
      }
    },
    {
      "cell_type": "code",
      "source": [
        "import yfinance as yf\n",
        "import pandas as pd\n",
        "\n",
        "def calculate_optimal_limit_price(ticker, period, interval):\n",
        "    \"\"\"\n",
        "    Calculate the optimal limit price for a stock based on SMA, Bollinger Bands, and Mean Reversion Strategy.\n",
        "\n",
        "    Args:\n",
        "        ticker (str): Stock ticker symbol.\n",
        "        period (str): Period for which to fetch historical data (e.g., '1d', '5d', '1mo', '3mo', '6mo', '1y', '2y', '5y', '10y', 'ytd', 'max').\n",
        "        interval (str): Interval for which to fetch historical data (e.g., '1m', '2m', '5m', '15m', '30m', '60m', '90m', '1h', '1d', '5d', '1wk', '1mo', '3mo').\n",
        "\n",
        "    Returns:\n",
        "        dict: Optimal limit prices based on SMA, Bollinger Bands, and Mean Reversion Strategy.\n",
        "    \"\"\"\n",
        "    # Fetch historical stock data\n",
        "    data = yf.download(ticker, period=period, interval=interval)\n",
        "\n",
        "    # Calculate SMA\n",
        "    sma = data['Close'].rolling(window=20).mean()\n",
        "    sma_limit = sma.iloc[-1]\n",
        "\n",
        "    # Calculate Bollinger Bands\n",
        "    bb_ma = data['Close'].rolling(window=20).mean()\n",
        "    bb_std = data['Close'].rolling(window=20).std()\n",
        "    bb_upper = bb_ma + (bb_std * 2)\n",
        "    bb_lower = bb_ma - (bb_std * 2)\n",
        "    bb_limit = bb_lower.iloc[-1]\n",
        "\n",
        "    # Calculate Mean Reversion Strategy\n",
        "    mean_price = data['Close'].mean()\n",
        "    deviation = data['Close'].std()\n",
        "    mr_limit = mean_price - (deviation * 1.5)\n",
        "\n",
        "    return {\n",
        "        'SMA': sma_limit,\n",
        "        'Bollinger Bands': bb_limit,\n",
        "        'Mean Reversion Strategy': mr_limit\n",
        "    }\n",
        "\n",
        "# Example usage for a stock in SBF 120:\n",
        "ticker = 'VIE.PA'  # Veolia\n",
        "period = '6mo'\n",
        "interval = '1d'\n",
        "\n",
        "optimal_limit_prices = calculate_optimal_limit_price(ticker, period, interval)\n",
        "print(optimal_limit_prices)"
      ],
      "metadata": {
        "colab": {
          "base_uri": "https://localhost:8080/"
        },
        "id": "l1y4YSC7iTrm",
        "outputId": "1fe603bb-7e01-411e-9d4e-ac5b243d06dd"
      },
      "execution_count": null,
      "outputs": [
        {
          "output_type": "stream",
          "name": "stderr",
          "text": [
            "\r[*********************100%***********************]  1 of 1 completed"
          ]
        },
        {
          "output_type": "stream",
          "name": "stdout",
          "text": [
            "{'SMA': 29.821000003814696, 'Bollinger Bands': 29.28923443467419, 'Mean Reversion Strategy': 27.905495349542747}\n"
          ]
        },
        {
          "output_type": "stream",
          "name": "stderr",
          "text": [
            "\n"
          ]
        }
      ]
    }
  ]
}